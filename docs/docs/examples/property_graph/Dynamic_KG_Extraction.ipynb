{
 "cells": [
  {
   "cell_type": "markdown",
   "metadata": {},
   "source": [
    "# Comparing LLM Path Extractors for Knowledge Graph Construction\n",
    "\n",
    "In this notebook, we'll compare three different LLM Path Extractors from llama_index:\n",
    "1. SimpleLLMPathExtractor\n",
    "2. SchemaLLMPathExtractor\n",
    "3. DynamicLLMPathExtractor (New)\n",
    "\n",
    "We'll use a Wikipedia page as our test data and visualize the resulting knowledge graphs using Pyvis."
   ]
  },
  {
   "cell_type": "markdown",
   "metadata": {},
   "source": [
    "## Setup and Imports"
   ]
  },
  {
   "cell_type": "code",
   "execution_count": null,
   "metadata": {},
   "outputs": [],
   "source": [
    "!pip install llama_index pyvis wikipedia"
   ]
  },
  {
   "cell_type": "code",
   "execution_count": null,
   "metadata": {},
   "outputs": [],
   "source": [
    "from llama_index.core import Document, PropertyGraphIndex\n",
    "from llama_index.core.indices.property_graph import (\n",
    "    SimpleLLMPathExtractor,\n",
    "    SchemaLLMPathExtractor,\n",
    "    DynamicLLMPathExtractor,\n",
    ")\n",
    "from llama_index.llms.openai import OpenAI\n",
    "from llama_index.core import Settings\n",
    "\n",
    "import wikipedia\n",
    "\n",
    "import os"
   ]
  },
  {
   "cell_type": "code",
   "execution_count": null,
   "metadata": {},
   "outputs": [],
   "source": [
    "import nest_asyncio\n",
    "\n",
    "nest_asyncio.apply()"
   ]
  },
  {
   "cell_type": "markdown",
   "metadata": {},
   "source": [
    "## Set up LLM Backend"
   ]
  },
  {
   "cell_type": "code",
   "execution_count": null,
   "metadata": {},
   "outputs": [],
   "source": [
    "os.environ[\"OPENAI_API_KEY\"] = \"YOUR_OPENAI_KEY_HERE\"\n",
    "\n",
    "# Set up global configurations\n",
    "llm = OpenAI(temperature=0.0, model=\"gpt-3.5-turbo\")\n",
    "\n",
    "Settings.llm = llm\n",
    "Settings.chunk_size = 2048\n",
    "Settings.chunk_overlap = 20"
   ]
  },
  {
   "cell_type": "markdown",
   "metadata": {},
   "source": [
    "## Fetch Some Raw Text from Wikipedia"
   ]
  },
  {
   "cell_type": "code",
   "execution_count": null,
   "metadata": {},
   "outputs": [],
   "source": [
    "def get_wikipedia_content(title):\n",
    "    try:\n",
    "        page = wikipedia.page(title)\n",
    "        return page.content\n",
    "    except wikipedia.exceptions.DisambiguationError as e:\n",
    "        print(f\"Disambiguation page. Options: {e.options}\")\n",
    "    except wikipedia.exceptions.PageError:\n",
    "        print(f\"Page '{title}' does not exist.\")\n",
    "    return None"
   ]
  },
  {
   "cell_type": "code",
   "execution_count": null,
   "metadata": {},
   "outputs": [
    {
     "name": "stdout",
     "output_type": "stream",
     "text": [
      "Fetched content for 'Barack Obama' (length: 83713 characters)\n"
     ]
    }
   ],
   "source": [
    "wiki_title = \"Barack Obama\"\n",
    "content = get_wikipedia_content(wiki_title)\n",
    "\n",
    "if content:\n",
    "    document = Document(text=content, metadata={\"title\": wiki_title})\n",
    "    print(\n",
    "        f\"Fetched content for '{wiki_title}' (length: {len(content)} characters)\"\n",
    "    )\n",
    "else:\n",
    "    print(\"Failed to fetch Wikipedia content.\")"
   ]
  },
  {
   "cell_type": "markdown",
   "metadata": {},
   "source": [
    "## 1. SimpleLLMPathExtractor"
   ]
  },
  {
   "cell_type": "code",
   "execution_count": null,
   "metadata": {},
   "outputs": [
    {
     "data": {
      "application/vnd.jupyter.widget-view+json": {
       "model_id": "9ab771aba0154f61bba4103f7e02930a",
       "version_major": 2,
       "version_minor": 0
      },
      "text/plain": [
       "Parsing nodes:   0%|          | 0/1 [00:00<?, ?it/s]"
      ]
     },
     "metadata": {},
     "output_type": "display_data"
    },
    {
     "name": "stderr",
     "output_type": "stream",
     "text": [
      "Extracting paths from text: 100%|██████████| 11/11 [00:08<00:00,  1.26it/s]\n"
     ]
    },
    {
     "data": {
      "text/plain": [
       "[(EntityNode(label='entity', embedding=None, properties={'title': 'Barack Obama', 'triplet_source_id': '592e1402-edf3-419a-8f65-04410eb67df4'}, name='Obama'),\n",
       "  Relation(label='Received', source_id='Obama', target_id='Ambassador of humanity award', properties={'title': 'Barack Obama', 'triplet_source_id': '592e1402-edf3-419a-8f65-04410eb67df4'}),\n",
       "  EntityNode(label='entity', embedding=None, properties={'title': 'Barack Obama', 'triplet_source_id': '592e1402-edf3-419a-8f65-04410eb67df4'}, name='Ambassador of humanity award')),\n",
       " (EntityNode(label='entity', embedding=None, properties={'title': 'Barack Obama', 'triplet_source_id': '592e1402-edf3-419a-8f65-04410eb67df4'}, name='Obama'),\n",
       "  Relation(label='Ordered', source_id='Obama', target_id='Campaign of u.s. airstrikes against isil', properties={'title': 'Barack Obama', 'triplet_source_id': '3fca0252-c372-42bb-8e2f-39a8b388523f'}),\n",
       "  EntityNode(label='entity', embedding=None, properties={'title': 'Barack Obama', 'triplet_source_id': '3fca0252-c372-42bb-8e2f-39a8b388523f'}, name='Campaign of u.s. airstrikes against isil')),\n",
       " (EntityNode(label='entity', embedding=None, properties={'title': 'Barack Obama', 'triplet_source_id': '592e1402-edf3-419a-8f65-04410eb67df4'}, name='Obama'),\n",
       "  Relation(label='Met with', source_id='Obama', target_id='Irish cousins', properties={'title': 'Barack Obama', 'triplet_source_id': 'ff3571a7-5a9c-4b52-9e6d-656791186594'}),\n",
       "  EntityNode(label='entity', embedding=None, properties={'title': 'Barack Obama', 'triplet_source_id': 'ff3571a7-5a9c-4b52-9e6d-656791186594'}, name='Irish cousins')),\n",
       " (EntityNode(label='entity', embedding=None, properties={'title': 'Barack Obama', 'triplet_source_id': '592e1402-edf3-419a-8f65-04410eb67df4'}, name='Obama'),\n",
       "  Relation(label='Sponsored', source_id='Obama', target_id='Law', properties={'title': 'Barack Obama', 'triplet_source_id': 'cf9e7a17-4a82-4ba1-88ed-68b76c3c45f4'}),\n",
       "  EntityNode(label='entity', embedding=None, properties={'title': 'Barack Obama', 'triplet_source_id': 'cf9e7a17-4a82-4ba1-88ed-68b76c3c45f4'}, name='Law')),\n",
       " (EntityNode(label='entity', embedding=None, properties={'title': 'Barack Obama', 'triplet_source_id': '592e1402-edf3-419a-8f65-04410eb67df4'}, name='Obama'),\n",
       "  Relation(label='Increased', source_id='Obama', target_id='Military cooperation', properties={'title': 'Barack Obama', 'triplet_source_id': '556935f6-23a1-4418-9a4b-ea7fdf33b4b1'}),\n",
       "  EntityNode(label='entity', embedding=None, properties={'title': 'Barack Obama', 'triplet_source_id': '556935f6-23a1-4418-9a4b-ea7fdf33b4b1'}, name='Military cooperation'))]"
      ]
     },
     "execution_count": null,
     "metadata": {},
     "output_type": "execute_result"
    }
   ],
   "source": [
    "kg_extractor = SimpleLLMPathExtractor(\n",
    "    llm=llm, max_paths_per_chunk=20, num_workers=4\n",
    ")\n",
    "\n",
    "simple_index = PropertyGraphIndex.from_documents(\n",
    "    [document],\n",
    "    llm=llm,\n",
    "    embed_kg_nodes=False,\n",
    "    kg_extractors=[kg_extractor],\n",
    "    show_progress=True,\n",
    ")\n",
    "\n",
    "simple_index.property_graph_store.save_networkx_graph(\n",
    "    name=\"./SimpleGraph.html\"\n",
    ")\n",
    "simple_index.property_graph_store.get_triplets(\n",
    "    entity_names=[\"Barack Obama\", \"Obama\"]\n",
    ")[:5]"
   ]
  },
  {
   "cell_type": "markdown",
   "metadata": {},
   "source": [
    "## 2. DynamicLLMPathExtractor"
   ]
  },
  {
   "cell_type": "markdown",
   "metadata": {},
   "source": [
    "### Without intial ontology :\n",
    "Here, we let the LLM define the ontology on the fly, giving it full freedom to label the nodes as it best sees fit."
   ]
  },
  {
   "cell_type": "code",
   "execution_count": null,
   "metadata": {},
   "outputs": [
    {
     "data": {
      "application/vnd.jupyter.widget-view+json": {
       "model_id": "95e6466d3265414daf481028907ec576",
       "version_major": 2,
       "version_minor": 0
      },
      "text/plain": [
       "Parsing nodes:   0%|          | 0/1 [00:00<?, ?it/s]"
      ]
     },
     "metadata": {},
     "output_type": "display_data"
    },
    {
     "name": "stderr",
     "output_type": "stream",
     "text": [
      "Extracting and inferring knowledge graph from text: 100%|██████████| 11/11 [00:31<00:00,  2.90s/it]\n"
     ]
    },
    {
     "data": {
      "text/plain": [
       "[(EntityNode(label='PERSON', embedding=None, properties={'title': 'Barack Obama', 'triplet_source_id': 'e5ee0bd7-38cb-4367-9ded-9d1e60f5f94a'}, name='Obama'),\n",
       "  Relation(label='CLAIMED', source_id='Obama', target_id='U.S.  cannot succeed in Afghanistan or secure our homeland unless we change our Pakistan policy ', properties={'title': 'Barack Obama', 'triplet_source_id': 'b1645295-dc15-46a8-adf2-5b37b7c08b4f'}),\n",
       "  EntityNode(label='EVENT', embedding=None, properties={'title': 'Barack Obama', 'triplet_source_id': 'b1645295-dc15-46a8-adf2-5b37b7c08b4f'}, name='U.S. \"cannot succeed in Afghanistan or secure our homeland unless we change our Pakistan policy\"')),\n",
       " (EntityNode(label='PERSON', embedding=None, properties={'title': 'Barack Obama', 'triplet_source_id': 'e5ee0bd7-38cb-4367-9ded-9d1e60f5f94a'}, name='Obama'),\n",
       "  Relation(label='HAS_DAUGHTER', source_id='Obama', target_id='Malia Ann', properties={'title': 'Barack Obama', 'triplet_source_id': '72c882f6-24c0-4069-8aca-6a769a49724f'}),\n",
       "  EntityNode(label='PERSON', embedding=None, properties={'title': 'Barack Obama', 'triplet_source_id': '72c882f6-24c0-4069-8aca-6a769a49724f'}, name='Malia Ann')),\n",
       " (EntityNode(label='PERSON', embedding=None, properties={'title': 'Barack Obama', 'triplet_source_id': '2981963a-9039-47b6-9af2-bc5a375436bc'}, name='Barack Obama'),\n",
       "  Relation(label='RECEIVED', source_id='Barack Obama', target_id='Ambassador of Humanity Award', properties={'title': 'Barack Obama', 'triplet_source_id': '2981963a-9039-47b6-9af2-bc5a375436bc'}),\n",
       "  EntityNode(label='AWARD', embedding=None, properties={'title': 'Barack Obama', 'triplet_source_id': '2981963a-9039-47b6-9af2-bc5a375436bc'}, name='Ambassador of Humanity Award')),\n",
       " (EntityNode(label='PERSON', embedding=None, properties={'title': 'Barack Obama', 'triplet_source_id': '2981963a-9039-47b6-9af2-bc5a375436bc'}, name='Barack Obama'),\n",
       "  Relation(label='RECEIVED', source_id='Barack Obama', target_id='Ripple of Hope Award', properties={'title': 'Barack Obama', 'triplet_source_id': '2981963a-9039-47b6-9af2-bc5a375436bc'}),\n",
       "  EntityNode(label='AWARD', embedding=None, properties={'title': 'Barack Obama', 'triplet_source_id': '2981963a-9039-47b6-9af2-bc5a375436bc'}, name='Ripple of Hope Award')),\n",
       " (EntityNode(label='PERSON', embedding=None, properties={'title': 'Barack Obama', 'triplet_source_id': 'e5ee0bd7-38cb-4367-9ded-9d1e60f5f94a'}, name='Obama'),\n",
       "  Relation(label='SAID', source_id='Obama', target_id='U.S. military would reduce the troop level in Afghanistan from 68,000 to 34,000 U.S. troops by February 2014', properties={'title': 'Barack Obama', 'triplet_source_id': 'b1645295-dc15-46a8-adf2-5b37b7c08b4f'}),\n",
       "  EntityNode(label='EVENT', embedding=None, properties={'title': 'Barack Obama', 'triplet_source_id': 'b1645295-dc15-46a8-adf2-5b37b7c08b4f'}, name='U.S. military would reduce the troop level in Afghanistan from 68,000 to 34,000 U.S. troops by February 2014'))]"
      ]
     },
     "execution_count": null,
     "metadata": {},
     "output_type": "execute_result"
    }
   ],
   "source": [
    "kg_extractor = DynamicLLMPathExtractor(\n",
    "    llm=llm,\n",
    "    max_triplets_per_chunk=20,\n",
    "    num_workers=4,\n",
    "    allowed_entity_types=None,  # Let the LLM infer entities and their labels (types) on the fly\n",
    "    allowed_relation_types=None,  # Let the LLM infer relationships on the fly\n",
    ")\n",
    "\n",
    "dynamic_index = PropertyGraphIndex.from_documents(\n",
    "    [document],\n",
    "    llm=llm,\n",
    "    embed_kg_nodes=False,\n",
    "    kg_extractors=[kg_extractor],\n",
    "    show_progress=True,\n",
    ")\n",
    "\n",
    "dynamic_index.property_graph_store.save_networkx_graph(\n",
    "    name=\"./DynamicGraph.html\"\n",
    ")\n",
    "dynamic_index.property_graph_store.get_triplets(\n",
    "    entity_names=[\"Barack Obama\", \"Obama\"]\n",
    ")[:5]"
   ]
  },
  {
   "cell_type": "markdown",
   "metadata": {},
   "source": [
    "### With initial ontology for guided KG extraction : \n",
    "Here, we have partial knowledge of what we want to detect, we know the article is about Barack Obama, so we define some entities and relations that could help guide the LLM in the labeling process as it detects the entities and relations. This doesn't guarantee that the LLM will use them, it simply guides it and gives it some ideas. It will still be up to the LLM to decide whether it uses the entities and relations we provide or not. "
   ]
  },
  {
   "cell_type": "code",
   "execution_count": null,
   "metadata": {},
   "outputs": [
    {
     "data": {
      "application/vnd.jupyter.widget-view+json": {
       "model_id": "e43764b17a6a48978ba423588f75f5b8",
       "version_major": 2,
       "version_minor": 0
      },
      "text/plain": [
       "Parsing nodes:   0%|          | 0/1 [00:00<?, ?it/s]"
      ]
     },
     "metadata": {},
     "output_type": "display_data"
    },
    {
     "name": "stderr",
     "output_type": "stream",
     "text": [
      "Extracting and inferring knowledge graph from text: 100%|██████████| 11/11 [00:33<00:00,  3.06s/it]\n"
     ]
    },
    {
     "data": {
      "text/plain": [
       "[(EntityNode(label='POLITICIAN', embedding=None, properties={'title': 'Barack Obama', 'triplet_source_id': '06aa98e3-94eb-4be8-bc1b-a18af1f03648'}, name='Obama'),\n",
       "  Relation(label='CLAIMED', source_id='Obama', target_id='U.S.  cannot succeed in Afghanistan or secure our homeland unless we change our Pakistan policy ', properties={'title': 'Barack Obama', 'triplet_source_id': '96dd0a8f-e635-4183-bbfc-6445ce0ec9c5'}),\n",
       "  EntityNode(label='STATEMENT', embedding=None, properties={'title': 'Barack Obama', 'triplet_source_id': '96dd0a8f-e635-4183-bbfc-6445ce0ec9c5'}, name='U.S. \"cannot succeed in Afghanistan or secure our homeland unless we change our Pakistan policy\"')),\n",
       " (EntityNode(label='POLITICIAN', embedding=None, properties={'title': 'Barack Obama', 'triplet_source_id': 'c1ab8269-64fc-42ea-b8c4-2f2592120444'}, name='Barack Obama'),\n",
       "  Relation(label='RECEIVED', source_id='Barack Obama', target_id='Ripple of Hope Award', properties={'title': 'Barack Obama', 'triplet_source_id': 'c1ab8269-64fc-42ea-b8c4-2f2592120444'}),\n",
       "  EntityNode(label='AWARD', embedding=None, properties={'title': 'Barack Obama', 'triplet_source_id': 'c1ab8269-64fc-42ea-b8c4-2f2592120444'}, name='Ripple of Hope Award')),\n",
       " (EntityNode(label='POLITICIAN', embedding=None, properties={'title': 'Barack Obama', 'triplet_source_id': 'c1ab8269-64fc-42ea-b8c4-2f2592120444'}, name='Barack Obama'),\n",
       "  Relation(label='MOVED_TO', source_id='Barack Obama', target_id='house in Kalorama', properties={'title': 'Barack Obama', 'triplet_source_id': '63b1d626-766b-4ac5-b676-42c31cd87056'}),\n",
       "  EntityNode(label='RESIDENCE', embedding=None, properties={'title': 'Barack Obama', 'triplet_source_id': '63b1d626-766b-4ac5-b676-42c31cd87056'}, name='house in Kalorama')),\n",
       " (EntityNode(label='POLITICIAN', embedding=None, properties={'title': 'Barack Obama', 'triplet_source_id': 'c1ab8269-64fc-42ea-b8c4-2f2592120444'}, name='Barack Obama'),\n",
       "  Relation(label='RECEIVED', source_id='Barack Obama', target_id='Ambassador of Humanity Award', properties={'title': 'Barack Obama', 'triplet_source_id': 'c1ab8269-64fc-42ea-b8c4-2f2592120444'}),\n",
       "  EntityNode(label='AWARD', embedding=None, properties={'title': 'Barack Obama', 'triplet_source_id': 'c1ab8269-64fc-42ea-b8c4-2f2592120444'}, name='Ambassador of Humanity Award')),\n",
       " (EntityNode(label='POLITICIAN', embedding=None, properties={'title': 'Barack Obama', 'triplet_source_id': 'c1ab8269-64fc-42ea-b8c4-2f2592120444'}, name='Barack Obama'),\n",
       "  Relation(label='HAS_RELATIVE', source_id='Barack Obama', target_id='George W. Bush', properties={'title': 'Barack Obama', 'triplet_source_id': 'a3c29378-4c65-4c2c-9157-285494e5ea3c'}),\n",
       "  EntityNode(label='PERSON', embedding=None, properties={'title': 'Barack Obama', 'triplet_source_id': 'a3c29378-4c65-4c2c-9157-285494e5ea3c'}, name='George W. Bush'))]"
      ]
     },
     "execution_count": null,
     "metadata": {},
     "output_type": "execute_result"
    }
   ],
   "source": [
    "kg_extractor = DynamicLLMPathExtractor(\n",
    "    llm=llm,\n",
    "    max_triplets_per_chunk=20,\n",
    "    num_workers=4,\n",
    "    allowed_entity_types=[\"POLITICIAN\", \"POLITICAL_PARTY\"],\n",
    "    allowed_relation_types=[\"PRESIDENT_OF\", \"MEMBER_OF\"],\n",
    ")\n",
    "\n",
    "dynamic_index_2 = PropertyGraphIndex.from_documents(\n",
    "    [document],\n",
    "    llm=llm,\n",
    "    embed_kg_nodes=False,\n",
    "    kg_extractors=[kg_extractor],\n",
    "    show_progress=True,\n",
    ")\n",
    "\n",
    "dynamic_index_2.property_graph_store.save_networkx_graph(\n",
    "    name=\"./DynamicGraph_2.html\"\n",
    ")\n",
    "dynamic_index_2.property_graph_store.get_triplets(\n",
    "    entity_names=[\"Barack Obama\", \"Obama\"]\n",
    ")[:5]"
   ]
  },
  {
   "cell_type": "markdown",
   "metadata": {},
   "source": [
    "# 3 - SchemaLLMPathExtractor"
   ]
  },
  {
   "cell_type": "code",
   "execution_count": null,
   "metadata": {},
   "outputs": [
    {
     "data": {
      "application/vnd.jupyter.widget-view+json": {
       "model_id": "baae7e5039ac4183ba757ae694976353",
       "version_major": 2,
       "version_minor": 0
      },
      "text/plain": [
       "Parsing nodes:   0%|          | 0/1 [00:00<?, ?it/s]"
      ]
     },
     "metadata": {},
     "output_type": "display_data"
    },
    {
     "name": "stderr",
     "output_type": "stream",
     "text": [
      "Extracting paths from text with schema: 100%|██████████| 11/11 [00:19<00:00,  1.76s/it]\n"
     ]
    },
    {
     "data": {
      "text/plain": [
       "[(EntityNode(label='PERSON', embedding=None, properties={'title': 'Barack Obama', 'triplet_source_id': 'f753a293-1e03-4f00-9683-28424a6ed11d'}, name='Barack Obama'),\n",
       "  Relation(label='WORKED_ON', source_id='Barack Obama', target_id='Hurricane Irma', properties={'title': 'Barack Obama', 'triplet_source_id': 'f753a293-1e03-4f00-9683-28424a6ed11d'}),\n",
       "  EntityNode(label='EVENT', embedding=None, properties={'title': 'Barack Obama', 'triplet_source_id': 'f753a293-1e03-4f00-9683-28424a6ed11d'}, name='Hurricane Irma')),\n",
       " (EntityNode(label='PERSON', embedding=None, properties={'title': 'Barack Obama', 'triplet_source_id': '8ba7cd25-cce3-4c93-b69f-144c8f40fd34'}, name='Obama'),\n",
       "  Relation(label='WORKED_ON', source_id='Obama', target_id='Iran nuclear talks', properties={'title': 'Barack Obama', 'triplet_source_id': '8ba7cd25-cce3-4c93-b69f-144c8f40fd34'}),\n",
       "  EntityNode(label='EVENT', embedding=None, properties={'title': 'Barack Obama', 'triplet_source_id': '8ba7cd25-cce3-4c93-b69f-144c8f40fd34'}, name='Iran nuclear talks')),\n",
       " (EntityNode(label='PERSON', embedding=None, properties={'title': 'Barack Obama', 'triplet_source_id': 'f753a293-1e03-4f00-9683-28424a6ed11d'}, name='Barack Obama'),\n",
       "  Relation(label='WORKED_ON', source_id='Barack Obama', target_id='Gun Control Legislation', properties={'title': 'Barack Obama', 'triplet_source_id': 'c6fa3d29-aef9-4e66-941f-5f47356d8229'}),\n",
       "  EntityNode(label='EVENT', embedding=None, properties={'title': 'Barack Obama', 'triplet_source_id': 'c6fa3d29-aef9-4e66-941f-5f47356d8229'}, name='Gun Control Legislation')),\n",
       " (EntityNode(label='PERSON', embedding=None, properties={'title': 'Barack Obama', 'triplet_source_id': 'f753a293-1e03-4f00-9683-28424a6ed11d'}, name='Barack Obama'),\n",
       "  Relation(label='WORKED_ON', source_id='Barack Obama', target_id='Renegades: Born in the USA', properties={'title': 'Barack Obama', 'triplet_source_id': 'f753a293-1e03-4f00-9683-28424a6ed11d'}),\n",
       "  EntityNode(label='EVENT', embedding=None, properties={'title': 'Barack Obama', 'triplet_source_id': 'f753a293-1e03-4f00-9683-28424a6ed11d'}, name='Renegades: Born in the USA')),\n",
       " (EntityNode(label='PERSON', embedding=None, properties={'title': 'Barack Obama', 'triplet_source_id': 'f753a293-1e03-4f00-9683-28424a6ed11d'}, name='Barack Obama'),\n",
       "  Relation(label='WORKED_ON', source_id='Barack Obama', target_id='Dodd-Frank', properties={'title': 'Barack Obama', 'triplet_source_id': 'f753a293-1e03-4f00-9683-28424a6ed11d'}),\n",
       "  EntityNode(label='EVENT', embedding=None, properties={'title': 'Barack Obama', 'triplet_source_id': 'f753a293-1e03-4f00-9683-28424a6ed11d'}, name='Dodd-Frank'))]"
      ]
     },
     "execution_count": null,
     "metadata": {},
     "output_type": "execute_result"
    }
   ],
   "source": [
    "kg_extractor = SchemaLLMPathExtractor(\n",
    "    llm=llm,\n",
    "    max_triplets_per_chunk=20,\n",
    "    strict=False,  # Set to False to showcase why it's not going to be the same as DynamicLLMPathExtractor\n",
    "    possible_entities=None,  # USE DEFAULT ENTITIES (PERSON, ORGANIZATION... etc)\n",
    "    possible_relations=None,  # USE DEFAULT RELATIONSHIPS\n",
    "    num_workers=4,\n",
    ")\n",
    "\n",
    "schema_index = PropertyGraphIndex.from_documents(\n",
    "    [document],\n",
    "    llm=llm,\n",
    "    embed_kg_nodes=False,\n",
    "    kg_extractors=[kg_extractor],\n",
    "    show_progress=True,\n",
    ")\n",
    "\n",
    "schema_index.property_graph_store.save_networkx_graph(\n",
    "    name=\"./SchemaGraph.html\"\n",
    ")\n",
    "schema_index.property_graph_store.get_triplets(\n",
    "    entity_names=[\"Barack Obama\", \"Obama\"]\n",
    ")[:5]"
   ]
  },
  {
   "cell_type": "markdown",
   "metadata": {},
   "source": [
    "## Comparison and Analysis\n",
    "\n",
    "Let's compare the results of the three extractors:\n",
    "\n",
    "1. **SimpleLLMPathExtractor**: This extractor creates a basic knowledge graph without any predefined schema. It may produce a larger number of diverse relationships but might lack consistency in entity and relation naming.\n",
    "\n",
    "\n",
    "3. **DynamicLLMPathExtractor**: \n",
    "    - This new extractor combines the flexibility of SimpleLLMPathExtractor with some initial guidance from a schema. It can expand beyond the initial entity and relation types, potentially producing a rich and diverse graph while maintaining some level of consistency. \n",
    "    - Not giving it any entities or relations to start with in the input gives the LLM complete freedom to infer the schema on the fly as it best sees fit. This is going to vary based on the LLM and the temperature used.\n",
    "\n",
    "3. **SchemaLLMPathExtractor**: With a predefined schema, this extractor produces a more structured graph. The entities and relations are limited to those specified in the schema, which can lead to a more consistent but potentially less comprehensive graph. Even if we set \"strict\" to false, the extracted KG Graph doesn't reflect the LLM's pursuit of trying to find new entities and types that fall outside of the input schema's scope.\n",
    "\n",
    "\n",
    "## Key observations:\n",
    "\n",
    "- The SimpleLLMPathExtractor graph might have the most diverse set of entities and relations.\n",
    "- The SchemaLLMPathExtractor graph should be the most consistent but might miss a lot of relationships that don't fit the predefined schema, even if we don't impose a strict validation of the schema.\n",
    "- The DynamicLLMPathExtractor graph should show a balance between diversity and consistency, potentially capturing important relationships that the schema-based approach might miss while still maintaining some structure.\n",
    "\n",
    "## The choice between these extractors depends on the specific use case:\n",
    "\n",
    "- Use SimpleLLMPathExtractor for exploratory analysis where you want to capture a wide range of potential relationships for RAG applications, without caring about the entity types.\n",
    "- Use SchemaLLMPathExtractor when you have a well-defined domain and want to ensure consistency in the extracted knowledge.\n",
    "- Use DynamicLLMPathExtractor when you want a balance between structure and flexibility, allowing the model to discover new entity and relation types while still providing some initial guidance. This one is especially useful if you want a KG with labeled (typed) entities but don't have an input Schema (or you've partially defined the schema as a starting base)."
   ]
  }
 ],
 "metadata": {
  "kernelspec": {
   "display_name": "Python 3",
   "language": "python",
   "name": "python3"
  },
  "language_info": {
   "codemirror_mode": {
    "name": "ipython",
    "version": 3
   },
   "file_extension": ".py",
   "mimetype": "text/x-python",
   "name": "python",
   "nbconvert_exporter": "python",
   "pygments_lexer": "ipython3"
  }
 },
 "nbformat": 4,
 "nbformat_minor": 4
}
